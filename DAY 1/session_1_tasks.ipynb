{
 "cells": [
  {
   "cell_type": "markdown",
   "metadata": {
    "id": "A05OG15VqOPF"
   },
   "source": [
    "# Task : Session 1\n",
    "Solve these questions own your own and try to test yourself what you have learned in the session.\n",
    "\n",
    "Happy Learning!"
   ]
  },
  {
   "cell_type": "markdown",
   "metadata": {
    "id": "2doIXf8bqe9_"
   },
   "source": [
    "### Q1 :- Print the given strings as per stated format.\n",
    "\n",
    "**Given strings**:\n",
    "```\n",
    "\"Data\" \"Science\" \"Mentorship\" \"Program\"\n",
    "\"By\" \"CampusX\"\n",
    "```\n",
    "**Output**:\n",
    "```\n",
    "Data-Science-Mentorship-Program-started-By-CampusX\n",
    "```\n",
    "\n",
    "Concept- [Seperator and End]"
   ]
  },
  {
   "cell_type": "code",
   "execution_count": 1,
   "metadata": {
    "colab": {
     "base_uri": "https://localhost:8080/"
    },
    "id": "-em6d3KErDtp",
    "outputId": "60455d61-079a-46f9-a258-e60f0bf9d143"
   },
   "outputs": [
    {
     "name": "stdout",
     "output_type": "stream",
     "text": [
      "Data-Science-Mentorship-Program-By-CampusX\n"
     ]
    }
   ],
   "source": [
    "# Write your code here\n",
    "print(\"Data\" ,\"Science\" ,\"Mentorship\" ,\"Program\",sep=\"-\",end=\"-\")\n",
    "print(\"By\", \"CampusX\",sep=\"-\")"
   ]
  },
  {
   "cell_type": "markdown",
   "metadata": {
    "id": "1KUpN7ZTrC3_"
   },
   "source": [
    "### Q2:- Write a program that will convert celsius value to fahrenheit."
   ]
  },
  {
   "cell_type": "code",
   "execution_count": 2,
   "metadata": {
    "colab": {
     "base_uri": "https://localhost:8080/"
    },
    "id": "yxKYhYQiqWfj",
    "outputId": "31f342a9-4cc8-4155-8be8-3751ea9a3d22"
   },
   "outputs": [
    {
     "name": "stdout",
     "output_type": "stream",
     "text": [
      "Enter the celcius temperature: 32\n",
      "32.0 degree centigrade is equal to 89.6 farehite\n"
     ]
    }
   ],
   "source": [
    "# Write your code here\n",
    "centigrade=float(input(\"Enter the celcius temperature: \"))\n",
    "farenhite=((9/5)*centigrade+32)\n",
    "print(f\"{centigrade} degree centigrade is equal to {farenhite} farehite\")"
   ]
  },
  {
   "cell_type": "markdown",
   "metadata": {
    "id": "RLrOBBJurLB2"
   },
   "source": [
    "### Q3:- Take 2 numbers as input from the user.Write a program to swap the numbers without using any special python syntax."
   ]
  },
  {
   "cell_type": "code",
   "execution_count": 3,
   "metadata": {
    "colab": {
     "base_uri": "https://localhost:8080/"
    },
    "id": "yPn7if0TrJ4F",
    "outputId": "ba3c3db8-c60b-4602-afe6-5085d7362d68"
   },
   "outputs": [
    {
     "name": "stdout",
     "output_type": "stream",
     "text": [
      "Enter the first number: 5\n",
      "Enter the second number: 6\n",
      "Before swapping the number a=5 and b=6\n",
      "After swapping the number a=6 and b=5\n"
     ]
    }
   ],
   "source": [
    "# Write your code here\n",
    "temp=None\n",
    "a=int(input(\"Enter the first number: \"))\n",
    "b=int(input(\"Enter the second number: \"))\n",
    "print(f\"Before swapping the number a={a} and b={b}\")\n",
    "temp=a\n",
    "a=b\n",
    "b=temp\n",
    "print(f\"After swapping the number a={a} and b={b}\")"
   ]
  },
  {
   "cell_type": "markdown",
   "metadata": {
    "id": "waLCP1bjr7ML"
   },
   "source": [
    "### Q4:- Write a program to find the euclidean distance between two coordinates.Take both the coordinates from the user as input."
   ]
  },
  {
   "cell_type": "code",
   "execution_count": 4,
   "metadata": {
    "colab": {
     "base_uri": "https://localhost:8080/"
    },
    "id": "Pl1Sv-xnrxnH",
    "outputId": "d72e2d86-27a1-4416-8c8c-b08edd45ac96"
   },
   "outputs": [
    {
     "name": "stdout",
     "output_type": "stream",
     "text": [
      "Enter the x coordinate of the first point: 10\n",
      "Enter the y coordinate of the first point: 5\n",
      "Enter the x coordinate of the second point: 20\n",
      "Enter the y coordinate of the second point: 15\n",
      "The euclidean distance between two coordinates is: 14.142135623730951\n"
     ]
    }
   ],
   "source": [
    "# Write your code here\n",
    "a=int(input(\"Enter the x coordinate of the first point: \"))\n",
    "b=int(input(\"Enter the y coordinate of the first point: \"))\n",
    "c=int(input(\"Enter the x coordinate of the second point: \"))\n",
    "d=int(input(\"Enter the y coordinate of the second point: \"))\n",
    "distance=((d-b)**2+(c-a)**2)**0.5\n",
    "print(f\"The euclidean distance between two coordinates is: {distance}\")"
   ]
  },
  {
   "cell_type": "markdown",
   "metadata": {
    "id": "VLrhg-FRsHjR"
   },
   "source": [
    "### Q5:- Write a program to find the simple interest when the value of principle,rate of interest and time period is provided by the user.\n"
   ]
  },
  {
   "cell_type": "code",
   "execution_count": 5,
   "metadata": {
    "colab": {
     "base_uri": "https://localhost:8080/"
    },
    "id": "s40DlReZsTmY",
    "outputId": "284ef324-c21c-49b0-b13c-de615137ff91"
   },
   "outputs": [
    {
     "name": "stdout",
     "output_type": "stream",
     "text": [
      "Enter the principal amount: 1000\n",
      "Enter the rate of interest: 10\n",
      "Enter the time period: 1\n",
      "The simple intrest amount is: 100.0\n"
     ]
    }
   ],
   "source": [
    "# Write your code here\n",
    "principle=int(input(\"Enter the principal amount: \"))\n",
    "rate_of_intrest=int(input(\"Enter the rate of interest: \"))\n",
    "time=int(input(\"Enter the time period: \"))\n",
    "intrest=((principle*rate_of_intrest*time)/100)\n",
    "print(f\"The simple intrest amount is: {intrest}\")"
   ]
  },
  {
   "cell_type": "markdown",
   "metadata": {
    "id": "LMy0BTUktYKa"
   },
   "source": [
    "### Q6:- Write a program that will tell the number of dogs and chicken are there when the user will provide the value of total heads and legs.\n",
    "\n",
    "For example:\n",
    "Input:\n",
    "heads -> 4\n",
    "legs -> 12\n",
    "<br>\n",
    "Output:\n",
    "dogs -> 2\n",
    "chicken -> 2\n",
    "\n",
    "\n",
    "\n"
   ]
  },
  {
   "cell_type": "code",
   "execution_count": 6,
   "metadata": {
    "colab": {
     "base_uri": "https://localhost:8080/"
    },
    "id": "XSBvJoA4tXaG",
    "outputId": "7b490543-a174-4fc9-c1cd-2fc8d41aee7b"
   },
   "outputs": [
    {
     "name": "stdout",
     "output_type": "stream",
     "text": [
      "Enter the total no of legs: 12\n",
      "Enter the no of head: 4\n",
      "The total no of dogs are:2.0 and chickens are:2.0\n"
     ]
    }
   ],
   "source": [
    "# Write your code\n",
    "legs=int(input(\"Enter the total no of legs: \"))\n",
    "head=int(input(\"Enter the no of head: \"))\n",
    "dogs=((legs-2*head)/2)\n",
    "chicken=head-dogs\n",
    "print(f\"The total no of dogs are:{dogs} and chickens are:{chicken}\")"
   ]
  },
  {
   "cell_type": "markdown",
   "metadata": {
    "id": "gJ7C5kZYt4BP"
   },
   "source": [
    "### Q7:- Write a program to find the sum of squares of first n natural numbers where n will be provided by the user."
   ]
  },
  {
   "cell_type": "code",
   "execution_count": 7,
   "metadata": {
    "colab": {
     "base_uri": "https://localhost:8080/"
    },
    "id": "_tHsmEHzt2nX",
    "outputId": "d3fc6085-bff9-4ebc-a2c5-8d4ac128a960"
   },
   "outputs": [
    {
     "name": "stdout",
     "output_type": "stream",
     "text": [
      "Enter the natural no until which you want sum of square: 3\n",
      "The sum of squares of first n natural numbers is: 14.0\n"
     ]
    }
   ],
   "source": [
    "# Write your code here\n",
    "n=int(input(\"Enter the natural no until which you want sum of square: \"))\n",
    "sum=((n*(n+1)*(2*n+1))/6)\n",
    "print(f\"The sum of squares of first n natural numbers is: {sum}\")\n"
   ]
  },
  {
   "cell_type": "markdown",
   "metadata": {
    "id": "FHrMM7g-yG1h"
   },
   "source": [
    "### Q8:- Given the first 2 terms of an Arithmetic Series.Find the Nth term of the series. Assume all inputs are provided by the user."
   ]
  },
  {
   "cell_type": "code",
   "execution_count": 8,
   "metadata": {
    "colab": {
     "base_uri": "https://localhost:8080/"
    },
    "id": "go4_kmZmyVSx",
    "outputId": "02401701-6fc3-48e4-c299-42d76483c201"
   },
   "outputs": [
    {
     "name": "stdout",
     "output_type": "stream",
     "text": [
      "Enter the first number of the arithmetic series: 3\n",
      "Enter the second number of the arithmetic series: 6\n",
      "Enter the value of n: 3\n",
      "The Nth term is: 9\n"
     ]
    }
   ],
   "source": [
    "# Write your code here\n",
    "a=int(input(\"Enter the first number of the arithmetic series: \"))\n",
    "b=int(input(\"Enter the second number of the arithmetic series: \"))\n",
    "n=int(input(\"Enter the value of n: \"))\n",
    "d=b-a #common difference\n",
    "a_n=(a+((n-1)*d))\n",
    "print(f\"The Nth term is: {a_n}\")"
   ]
  },
  {
   "cell_type": "markdown",
   "metadata": {
    "id": "QgyRX_es1oum"
   },
   "source": [
    "### Q9:- Given 2 fractions, find the sum of those 2 fractions.Take the numerator and denominator values of the fractions from the user."
   ]
  },
  {
   "cell_type": "code",
   "execution_count": 9,
   "metadata": {
    "colab": {
     "base_uri": "https://localhost:8080/"
    },
    "id": "X05xqFS1yW16",
    "outputId": "ef01d4ac-6f08-4eac-a799-b367f8e878b0"
   },
   "outputs": [
    {
     "name": "stdout",
     "output_type": "stream",
     "text": [
      "Enter the numerator of the 1st fraction: 1\n",
      "Enter the denominator of the 1st fraction: 2\n",
      "Enter the numerator of the 2nd fraction: 1\n",
      "Enter the denominator of the 2nd fraction: 2\n",
      "Enter the sum of two fractions: 1.0\n"
     ]
    }
   ],
   "source": [
    "# Write your code here\n",
    "a=int(input(\"Enter the numerator of the 1st fraction: \"))\n",
    "b=int(input(\"Enter the denominator of the 1st fraction: \"))\n",
    "c=int(input(\"Enter the numerator of the 2nd fraction: \"))\n",
    "d=int(input(\"Enter the denominator of the 2nd fraction: \"))\n",
    "sum=((a/b)+(c/d))\n",
    "print(f\"Enter the sum of two fractions: {sum}\")"
   ]
  },
  {
   "cell_type": "markdown",
   "metadata": {
    "id": "eaql38ln13u7"
   },
   "source": [
    "2### Q10:- Given the height, width and breadth of a milk tank, you have to find out how many glasses of milk can be obtained? Assume all the inputs are provided by the user.\n",
    "\n",
    "\n",
    "\n",
    "Input:<br>\n",
    "Dimensions of the milk tank<br>\n",
    "H = 20cm, L = 20cm, B = 20cm\n",
    "<br><br>\n",
    "Dimensions of the glass<br>\n",
    "h = 3cm, r = 1cm"
   ]
  },
  {
   "cell_type": "code",
   "execution_count": 12,
   "metadata": {
    "colab": {
     "base_uri": "https://localhost:8080/"
    },
    "id": "FePZqno74eWv",
    "outputId": "9115031e-6f93-4df2-bd24-c385227f5af6"
   },
   "outputs": [
    {
     "name": "stdout",
     "output_type": "stream",
     "text": [
      "Enter the height of the tank: 20\n",
      "Enter the length of the tank: 10\n",
      "Enter the breadth of the tank: 30\n",
      "Enter the radius of the milk glass: 7\n",
      "Enter the height of glass7\n",
      "Enter the no of glass: 5.565862708719852\n"
     ]
    }
   ],
   "source": [
    "# Write your code here\n",
    "height=int(input(\"Enter the height of the tank: \"))\n",
    "length=int(input(\"Enter the length of the tank: \"))\n",
    "breadth=int(input(\"Enter the breadth of the tank: \"))\n",
    "volume_of_tank=(height*length*breadth)\n",
    "radius=int(input(\"Enter the radius of the milk glass: \"))\n",
    "height1=int(input(\"Enter the height of glass\"))\n",
    "volume_of_one_glass=((22/7)*((radius)**2)*(height1))\n",
    "no_of_glass=(volume_of_tank/volume_of_one_glass)\n",
    "print(f\"Enter the no of glass: {no_of_glass}\")"
   ]
  },
  {
   "cell_type": "code",
   "execution_count": null,
   "metadata": {
    "id": "ZKL--2Ra2Ool"
   },
   "outputs": [],
   "source": []
  }
 ],
 "metadata": {
  "colab": {
   "provenance": []
  },
  "kernelspec": {
   "display_name": "Python 3 (ipykernel)",
   "language": "python",
   "name": "python3"
  },
  "language_info": {
   "codemirror_mode": {
    "name": "ipython",
    "version": 3
   },
   "file_extension": ".py",
   "mimetype": "text/x-python",
   "name": "python",
   "nbconvert_exporter": "python",
   "pygments_lexer": "ipython3",
   "version": "3.9.13"
  }
 },
 "nbformat": 4,
 "nbformat_minor": 1
}
