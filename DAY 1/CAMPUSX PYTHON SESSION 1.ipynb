{
 "cells": [
  {
   "cell_type": "markdown",
   "id": "f33705ae",
   "metadata": {},
   "source": [
    "# FILE Highlights:\n"
   ]
  },
  {
   "cell_type": "raw",
   "id": "5a3fe5b6",
   "metadata": {},
   "source": [
    "Understanding the Purpose of Python\n",
    "Basic Printing: How to show the Output Information\n",
    "Unveiling the uses of Separator and End in print function in Python\n",
    "Dynamic vs. Static Typing: A Comparative Insight\n",
    "Dynamic vs. Static Binding: Key Differences Explored\n",
    "Explicit and Implicit Type Conversions: A Practical Approach\n",
    "Python Problem Solving: Dive into Real-world Challenges\n",
    "Explore the file to grasp the fundamentals, tackle problems, and enhance your Python proficiency! 🐍💡 \n",
    "#PythonLearning #ProgrammingBasics\" #Happy_learning"
   ]
  },
  {
   "cell_type": "markdown",
   "id": "fd27951a",
   "metadata": {},
   "source": [
    "# 1.Python Output"
   ]
  },
  {
   "cell_type": "code",
   "execution_count": 1,
   "id": "2cd61da2",
   "metadata": {},
   "outputs": [
    {
     "name": "stdout",
     "output_type": "stream",
     "text": [
      "Hello World\n"
     ]
    }
   ],
   "source": [
    "#python is a case sensitive language\n",
    "print(\"Hello World\")"
   ]
  },
  {
   "cell_type": "code",
   "execution_count": 2,
   "id": "0a3fcb64",
   "metadata": {},
   "outputs": [
    {
     "name": "stdout",
     "output_type": "stream",
     "text": [
      "123\n"
     ]
    }
   ],
   "source": [
    "print(123)"
   ]
  },
  {
   "cell_type": "code",
   "execution_count": 3,
   "id": "4ddc2985",
   "metadata": {},
   "outputs": [
    {
     "name": "stdout",
     "output_type": "stream",
     "text": [
      "1.5\n"
     ]
    }
   ],
   "source": [
    "print(1.5)"
   ]
  },
  {
   "cell_type": "code",
   "execution_count": 4,
   "id": "1b0e443f",
   "metadata": {},
   "outputs": [
    {
     "name": "stdout",
     "output_type": "stream",
     "text": [
      "True\n"
     ]
    }
   ],
   "source": [
    "print(True)"
   ]
  },
  {
   "cell_type": "code",
   "execution_count": 5,
   "id": "e62fcd76",
   "metadata": {},
   "outputs": [
    {
     "name": "stdout",
     "output_type": "stream",
     "text": [
      "Hello 1 1.5 True\n"
     ]
    }
   ],
   "source": [
    "print('Hello',1,1.5,True)"
   ]
  },
  {
   "cell_type": "code",
   "execution_count": 6,
   "id": "ed148e4a",
   "metadata": {},
   "outputs": [
    {
     "name": "stdout",
     "output_type": "stream",
     "text": [
      "Hello*1*1.5*True\n"
     ]
    }
   ],
   "source": [
    "print('Hello',1,1.5,True,sep=\"*\")"
   ]
  },
  {
   "cell_type": "code",
   "execution_count": 7,
   "id": "34ff1296",
   "metadata": {},
   "outputs": [
    {
     "name": "stdout",
     "output_type": "stream",
     "text": [
      "hello\n",
      "world\n"
     ]
    }
   ],
   "source": [
    "print(\"hello\")\n",
    "print(\"world\")"
   ]
  },
  {
   "cell_type": "code",
   "execution_count": 8,
   "id": "4c33a394",
   "metadata": {},
   "outputs": [
    {
     "name": "stdout",
     "output_type": "stream",
     "text": [
      "hello--world\n"
     ]
    }
   ],
   "source": [
    "print(\"hello\",end=\"--\")\n",
    "print(\"world\")"
   ]
  },
  {
   "cell_type": "markdown",
   "id": "4ddc25ec",
   "metadata": {},
   "source": [
    "# 2.Data types"
   ]
  },
  {
   "cell_type": "code",
   "execution_count": 9,
   "id": "03d83ea4",
   "metadata": {},
   "outputs": [
    {
     "name": "stdout",
     "output_type": "stream",
     "text": [
      "8\n"
     ]
    }
   ],
   "source": [
    "#integer\n",
    "print(8)"
   ]
  },
  {
   "cell_type": "code",
   "execution_count": 10,
   "id": "ed9bd022",
   "metadata": {},
   "outputs": [
    {
     "name": "stdout",
     "output_type": "stream",
     "text": [
      "1e+308\n"
     ]
    }
   ],
   "source": [
    "print(1e308) #1*10^308 .from 309 it start showing inf"
   ]
  },
  {
   "cell_type": "code",
   "execution_count": 11,
   "id": "d76d1d9a",
   "metadata": {},
   "outputs": [
    {
     "name": "stdout",
     "output_type": "stream",
     "text": [
      "10.6\n"
     ]
    }
   ],
   "source": [
    "#float\n",
    "print(10.6)"
   ]
  },
  {
   "cell_type": "code",
   "execution_count": 12,
   "id": "0e8fe1e5",
   "metadata": {},
   "outputs": [
    {
     "name": "stdout",
     "output_type": "stream",
     "text": [
      "True\n"
     ]
    }
   ],
   "source": [
    "#Boolean\n",
    "print(True)"
   ]
  },
  {
   "cell_type": "code",
   "execution_count": 13,
   "id": "4799ca6e",
   "metadata": {},
   "outputs": [
    {
     "name": "stdout",
     "output_type": "stream",
     "text": [
      "False\n"
     ]
    }
   ],
   "source": [
    "print(False)"
   ]
  },
  {
   "cell_type": "code",
   "execution_count": 14,
   "id": "00254a57",
   "metadata": {},
   "outputs": [
    {
     "name": "stdout",
     "output_type": "stream",
     "text": [
      "hello world\n"
     ]
    }
   ],
   "source": [
    "#text/string\n",
    "print(\"hello world\")"
   ]
  },
  {
   "cell_type": "code",
   "execution_count": 15,
   "id": "bc9e305f",
   "metadata": {},
   "outputs": [
    {
     "name": "stdout",
     "output_type": "stream",
     "text": [
      "(5+10j)\n"
     ]
    }
   ],
   "source": [
    "#complex no\n",
    "a=5+10j\n",
    "print(a)"
   ]
  },
  {
   "cell_type": "code",
   "execution_count": 16,
   "id": "6274269b",
   "metadata": {},
   "outputs": [
    {
     "data": {
      "text/plain": [
       "5.0"
      ]
     },
     "execution_count": 16,
     "metadata": {},
     "output_type": "execute_result"
    }
   ],
   "source": [
    "a.real"
   ]
  },
  {
   "cell_type": "code",
   "execution_count": 17,
   "id": "54d38d5b",
   "metadata": {},
   "outputs": [
    {
     "data": {
      "text/plain": [
       "10.0"
      ]
     },
     "execution_count": 17,
     "metadata": {},
     "output_type": "execute_result"
    }
   ],
   "source": [
    "a.imag"
   ]
  },
  {
   "cell_type": "code",
   "execution_count": 18,
   "id": "5062470c",
   "metadata": {
    "scrolled": true
   },
   "outputs": [
    {
     "name": "stdout",
     "output_type": "stream",
     "text": [
      "[1, 2, 3]\n"
     ]
    }
   ],
   "source": [
    "#list/array\n",
    "print([1,2,3])"
   ]
  },
  {
   "cell_type": "code",
   "execution_count": 19,
   "id": "f68b5a16",
   "metadata": {
    "scrolled": true
   },
   "outputs": [
    {
     "name": "stdout",
     "output_type": "stream",
     "text": [
      "(1, 2, 3)\n"
     ]
    }
   ],
   "source": [
    "#Tuple\n",
    "print((1,2,3))"
   ]
  },
  {
   "cell_type": "code",
   "execution_count": 20,
   "id": "1440d39d",
   "metadata": {},
   "outputs": [
    {
     "name": "stdout",
     "output_type": "stream",
     "text": [
      "{1, 2, 3}\n"
     ]
    }
   ],
   "source": [
    "#Sets\n",
    "print({1,2,3})"
   ]
  },
  {
   "cell_type": "code",
   "execution_count": 21,
   "id": "2bdefbcc",
   "metadata": {},
   "outputs": [
    {
     "name": "stdout",
     "output_type": "stream",
     "text": [
      "{'name': 'subho', 'age': 26}\n"
     ]
    }
   ],
   "source": [
    "#dictionary\n",
    "print({'name':'subho','age':26})"
   ]
  },
  {
   "cell_type": "markdown",
   "id": "8bd84c34",
   "metadata": {},
   "source": [
    "# VARIABLES"
   ]
  },
  {
   "cell_type": "code",
   "execution_count": 22,
   "id": "64d18cfa",
   "metadata": {},
   "outputs": [
    {
     "name": "stdout",
     "output_type": "stream",
     "text": [
      "11\n"
     ]
    }
   ],
   "source": [
    "#VARIABLES ARE CONTAINER FOR FUTURE USE\n",
    "a=5\n",
    "b=6\n",
    "print(a+b)"
   ]
  },
  {
   "cell_type": "code",
   "execution_count": null,
   "id": "7c039de2",
   "metadata": {},
   "outputs": [],
   "source": [
    "#Dynamic typing\n",
    "a=5 (no need to mention variables datatype)\n",
    "\n",
    "#static typic\n",
    "int a=5 (need to mention datatypes)"
   ]
  },
  {
   "cell_type": "code",
   "execution_count": 23,
   "id": "b5944b0e",
   "metadata": {},
   "outputs": [
    {
     "ename": "SyntaxError",
     "evalue": "invalid syntax (838944550.py, line 10)",
     "output_type": "error",
     "traceback": [
      "\u001b[1;36m  File \u001b[1;32m\"C:\\Users\\Subhodwip\\AppData\\Local\\Temp\\ipykernel_12908\\838944550.py\"\u001b[1;36m, line \u001b[1;32m10\u001b[0m\n\u001b[1;33m    int a=5\u001b[0m\n\u001b[1;37m        ^\u001b[0m\n\u001b[1;31mSyntaxError\u001b[0m\u001b[1;31m:\u001b[0m invalid syntax\n"
     ]
    }
   ],
   "source": [
    "#Dynamic binding\n",
    "a=5\n",
    "print(a)\n",
    "a='nitish'\n",
    "print(a)\n",
    "\n",
    "#it can contains mutiple datatype in the single variable\n",
    "\n",
    "#Static binding\n",
    "int a=5\n",
    "\n",
    "#it can contain only one type of data type in oe variable\n"
   ]
  },
  {
   "cell_type": "code",
   "execution_count": 24,
   "id": "8f41160b",
   "metadata": {},
   "outputs": [
    {
     "name": "stdout",
     "output_type": "stream",
     "text": [
      "1 2 3\n"
     ]
    }
   ],
   "source": [
    "a=1\n",
    "b=2\n",
    "c=3\n",
    "print(1,2,3)"
   ]
  },
  {
   "cell_type": "code",
   "execution_count": 25,
   "id": "5e77dd2f",
   "metadata": {},
   "outputs": [
    {
     "name": "stdout",
     "output_type": "stream",
     "text": [
      "1 2 3\n"
     ]
    }
   ],
   "source": [
    "a,b,c=1,2,3\n",
    "print(a,b,c)"
   ]
  },
  {
   "cell_type": "code",
   "execution_count": 26,
   "id": "148e7d39",
   "metadata": {},
   "outputs": [
    {
     "name": "stdout",
     "output_type": "stream",
     "text": [
      "1 1 1\n"
     ]
    }
   ],
   "source": [
    "a=b=c=1\n",
    "print(a,b,c)"
   ]
  },
  {
   "cell_type": "markdown",
   "id": "3be672d7",
   "metadata": {},
   "source": [
    "# KEYWORDS & IDENTIFIERS"
   ]
  },
  {
   "cell_type": "markdown",
   "id": "525d32e1",
   "metadata": {},
   "source": [
    "predefined words by python language so that \n",
    "interpreter easily understand that and covert the code into 1 or 0(low level to high level)"
   ]
  },
  {
   "cell_type": "code",
   "execution_count": 27,
   "id": "bb8f1c65",
   "metadata": {},
   "outputs": [],
   "source": [
    "# and\tA logical operator\n",
    "# as\tTo create an alias\n",
    "# assert\tFor debugging\n",
    "# break\tTo break out of a loop\n",
    "# class\tTo define a class\n",
    "# continue\tTo continue to the next iteration of a loop\n",
    "# def\tTo define a function\n",
    "# del\tTo delete an object\n",
    "# elif\tUsed in conditional statements, same as else if\n",
    "# else\tUsed in conditional statements\n",
    "# except\tUsed with exceptions, what to do when an exception occurs\n",
    "# False\tBoolean value, result of comparison operations\n",
    "# finally\tUsed with exceptions, a block of code that will be executed no matter if there is an exception or not\n",
    "# for\tTo create a for loop\n",
    "# from\tTo import specific parts of a module\n",
    "# global\tTo declare a global variable\n",
    "# if\tTo make a conditional statement\n",
    "# import\tTo import a module\n",
    "# in\tTo check if a value is present in a list, tuple, etc.\n",
    "# is\tTo test if two variables are equal\n",
    "# lambda\tTo create an anonymous function\n",
    "# None\tRepresents a null value\n",
    "# nonlocal\tTo declare a non-local variable\n",
    "# not\tA logical operator\n",
    "# or\tA logical operator\n",
    "# pass\tA null statement, a statement that will do nothing\n",
    "# raise\tTo raise an exception\n",
    "# return\tTo exit a function and return a value\n",
    "# True\tBoolean value, result of comparison operations\n",
    "# try\tTo make a try...except statement\n",
    "# while\tTo create a while loop\n",
    "# with\tUsed to simplify exception handling\n",
    "# yield\tTo end a function, returns a generator"
   ]
  },
  {
   "cell_type": "markdown",
   "id": "cfde9a49",
   "metadata": {},
   "source": [
    "# Identifiers"
   ]
  },
  {
   "cell_type": "code",
   "execution_count": 28,
   "id": "a52d5929",
   "metadata": {},
   "outputs": [],
   "source": [
    "#you can't start with digit\n",
    "#you can use special character\n",
    "#identifiers can =t be key words"
   ]
  },
  {
   "cell_type": "markdown",
   "id": "496e37ad",
   "metadata": {},
   "source": [
    "# USER INPUT"
   ]
  },
  {
   "cell_type": "code",
   "execution_count": 34,
   "id": "f096fea2",
   "metadata": {},
   "outputs": [
    {
     "name": "stdout",
     "output_type": "stream",
     "text": [
      "enter the first number: 5\n",
      "enter the second number: 6\n",
      "the sum of two numbers are: 11\n",
      "<class 'int'>\n"
     ]
    }
   ],
   "source": [
    "#Take the first number.\n",
    "a=int(input(\"enter the first number: \"))\n",
    "#Take the second number\n",
    "b=int(input(\"enter the second number: \"))\n",
    "#Take the sum of the two numbers\n",
    "sum=a+b\n",
    "print(f\"the sum of two numbers are: {sum}\")\n",
    "print(type(sum))"
   ]
  },
  {
   "cell_type": "markdown",
   "id": "dc378d7c",
   "metadata": {},
   "source": [
    "# TYPE COVERSIONS"
   ]
  },
  {
   "cell_type": "markdown",
   "id": "506a46be",
   "metadata": {},
   "source": [
    "### implicit vs explcit"
   ]
  },
  {
   "cell_type": "code",
   "execution_count": 36,
   "id": "f780d249",
   "metadata": {},
   "outputs": [
    {
     "name": "stdout",
     "output_type": "stream",
     "text": [
      "10.6\n"
     ]
    }
   ],
   "source": [
    "print(5+5.6) #implicilty understand "
   ]
  },
  {
   "cell_type": "code",
   "execution_count": 37,
   "id": "a7c3e697",
   "metadata": {},
   "outputs": [
    {
     "ename": "TypeError",
     "evalue": "unsupported operand type(s) for +: 'int' and 'str'",
     "output_type": "error",
     "traceback": [
      "\u001b[1;31m---------------------------------------------------------------------------\u001b[0m",
      "\u001b[1;31mTypeError\u001b[0m                                 Traceback (most recent call last)",
      "\u001b[1;32m~\\AppData\\Local\\Temp\\ipykernel_12908\\3285321692.py\u001b[0m in \u001b[0;36m<module>\u001b[1;34m\u001b[0m\n\u001b[1;32m----> 1\u001b[1;33m \u001b[0mprint\u001b[0m\u001b[1;33m(\u001b[0m\u001b[1;36m5\u001b[0m\u001b[1;33m+\u001b[0m\u001b[1;34m'5'\u001b[0m\u001b[1;33m)\u001b[0m\u001b[1;33m\u001b[0m\u001b[1;33m\u001b[0m\u001b[0m\n\u001b[0m",
      "\u001b[1;31mTypeError\u001b[0m: unsupported operand type(s) for +: 'int' and 'str'"
     ]
    }
   ],
   "source": [
    "print(5+'5')"
   ]
  },
  {
   "cell_type": "code",
   "execution_count": 40,
   "id": "470ebdb0",
   "metadata": {},
   "outputs": [
    {
     "data": {
      "text/plain": [
       "int"
      ]
     },
     "execution_count": 40,
     "metadata": {},
     "output_type": "execute_result"
    }
   ],
   "source": [
    "#Explicit\n",
    "#str->int\n",
    "type(int('5'))\n"
   ]
  },
  {
   "cell_type": "code",
   "execution_count": 42,
   "id": "ae84b486",
   "metadata": {},
   "outputs": [
    {
     "ename": "ValueError",
     "evalue": "invalid literal for int() with base 10: '4+5j'",
     "output_type": "error",
     "traceback": [
      "\u001b[1;31m---------------------------------------------------------------------------\u001b[0m",
      "\u001b[1;31mValueError\u001b[0m                                Traceback (most recent call last)",
      "\u001b[1;32m~\\AppData\\Local\\Temp\\ipykernel_12908\\2163931050.py\u001b[0m in \u001b[0;36m<module>\u001b[1;34m\u001b[0m\n\u001b[1;32m----> 1\u001b[1;33m \u001b[0mtype\u001b[0m\u001b[1;33m(\u001b[0m\u001b[0mint\u001b[0m\u001b[1;33m(\u001b[0m\u001b[1;34m'4+5j'\u001b[0m\u001b[1;33m)\u001b[0m\u001b[1;33m)\u001b[0m\u001b[1;33m\u001b[0m\u001b[1;33m\u001b[0m\u001b[0m\n\u001b[0m",
      "\u001b[1;31mValueError\u001b[0m: invalid literal for int() with base 10: '4+5j'"
     ]
    }
   ],
   "source": [
    "type(int('4+5j'))"
   ]
  },
  {
   "cell_type": "code",
   "execution_count": 43,
   "id": "bbddda98",
   "metadata": {},
   "outputs": [
    {
     "name": "stdout",
     "output_type": "stream",
     "text": [
      "Enter the first number: 5\n",
      "Enter the second number: 6\n",
      "11\n",
      "<class 'str'>\n"
     ]
    }
   ],
   "source": [
    "first_num=input(\"Enter the first number: \")\n",
    "Second_num=input('Enter the second number: ')\n",
    "result=int(first_num)+int(Second_num)\n",
    "print(result)\n",
    "print(type(first_num))"
   ]
  },
  {
   "cell_type": "markdown",
   "id": "70412506",
   "metadata": {},
   "source": [
    "# LITERALS"
   ]
  },
  {
   "cell_type": "code",
   "execution_count": 44,
   "id": "2f3905f2",
   "metadata": {},
   "outputs": [],
   "source": [
    "a=0b10 #Binary literals\n",
    "b=100 #Decimal literals\n",
    "c=0o310 #octal literals\n",
    "d=0x12c #Hexadecimal literals\n",
    "\n",
    "\n",
    "#float liberals\n",
    "float_1=10.5\n",
    "float_2=1.5e2 #1.5*10^2\n",
    "float_3=1.5e-3  #1.5*10^-3\n",
    "\n",
    "#complex\n",
    "a=4+8j"
   ]
  },
  {
   "cell_type": "markdown",
   "id": "1a586df1",
   "metadata": {},
   "source": [
    "# printing strings"
   ]
  },
  {
   "cell_type": "code",
   "execution_count": 45,
   "id": "fbd86c51",
   "metadata": {},
   "outputs": [
    {
     "name": "stdout",
     "output_type": "stream",
     "text": [
      "This is Python\n",
      "This is Python\n",
      "C\n",
      "This is a multiline string with more than one line code.\n",
      "😀😆🤣\n",
      "raw \\n string\n"
     ]
    }
   ],
   "source": [
    "string = 'This is Python'\n",
    "strings = \"This is Python\"\n",
    "char = \"C\"\n",
    "multiline_str = \"\"\"This is a multiline string with more than one line code.\"\"\"\n",
    "unicode = u\"\\U0001f600\\U0001F606\\U0001F923\"\n",
    "raw_str = r\"raw \\n string\"\n",
    "\n",
    "print(string)\n",
    "print(strings)\n",
    "print(char)\n",
    "print(multiline_str)\n",
    "print(unicode)\n",
    "print(raw_str)"
   ]
  },
  {
   "cell_type": "code",
   "execution_count": 46,
   "id": "bdfb226d",
   "metadata": {},
   "outputs": [
    {
     "name": "stdout",
     "output_type": "stream",
     "text": [
      "a: 5\n",
      "b: 10\n"
     ]
    }
   ],
   "source": [
    "a = True + 4\n",
    "b = False + 10\n",
    "\n",
    "print(\"a:\", a)\n",
    "print(\"b:\", b)"
   ]
  },
  {
   "cell_type": "code",
   "execution_count": 47,
   "id": "36948d4c",
   "metadata": {},
   "outputs": [
    {
     "name": "stdout",
     "output_type": "stream",
     "text": [
      "None\n"
     ]
    }
   ],
   "source": [
    "a=None\n",
    "print(a)"
   ]
  },
  {
   "cell_type": "code",
   "execution_count": 48,
   "id": "1e297883",
   "metadata": {},
   "outputs": [
    {
     "ename": "NameError",
     "evalue": "name 'k' is not defined",
     "output_type": "error",
     "traceback": [
      "\u001b[1;31m---------------------------------------------------------------------------\u001b[0m",
      "\u001b[1;31mNameError\u001b[0m                                 Traceback (most recent call last)",
      "\u001b[1;32m~\\AppData\\Local\\Temp\\ipykernel_12908\\3421718113.py\u001b[0m in \u001b[0;36m<module>\u001b[1;34m\u001b[0m\n\u001b[1;32m----> 1\u001b[1;33m \u001b[0mk\u001b[0m\u001b[1;33m\u001b[0m\u001b[1;33m\u001b[0m\u001b[0m\n\u001b[0m\u001b[0;32m      2\u001b[0m \u001b[0ma\u001b[0m\u001b[1;33m=\u001b[0m\u001b[1;36m4\u001b[0m\u001b[1;33m\u001b[0m\u001b[1;33m\u001b[0m\u001b[0m\n\u001b[0;32m      3\u001b[0m \u001b[0mb\u001b[0m\u001b[1;33m=\u001b[0m\u001b[1;36m6\u001b[0m\u001b[1;33m\u001b[0m\u001b[1;33m\u001b[0m\u001b[0m\n\u001b[0;32m      4\u001b[0m \u001b[0mprint\u001b[0m\u001b[1;33m(\u001b[0m\u001b[1;34m'Program exe'\u001b[0m\u001b[1;33m)\u001b[0m\u001b[1;33m\u001b[0m\u001b[1;33m\u001b[0m\u001b[0m\n",
      "\u001b[1;31mNameError\u001b[0m: name 'k' is not defined"
     ]
    }
   ],
   "source": [
    "k\n",
    "a=4\n",
    "b=6\n",
    "print('Program exe')"
   ]
  },
  {
   "cell_type": "code",
   "execution_count": 49,
   "id": "519a303e",
   "metadata": {},
   "outputs": [
    {
     "name": "stdout",
     "output_type": "stream",
     "text": [
      "Program exe\n"
     ]
    }
   ],
   "source": [
    "k=None\n",
    "a=4\n",
    "b=6\n",
    "print('Program exe')"
   ]
  }
 ],
 "metadata": {
  "kernelspec": {
   "display_name": "Python 3 (ipykernel)",
   "language": "python",
   "name": "python3"
  },
  "language_info": {
   "codemirror_mode": {
    "name": "ipython",
    "version": 3
   },
   "file_extension": ".py",
   "mimetype": "text/x-python",
   "name": "python",
   "nbconvert_exporter": "python",
   "pygments_lexer": "ipython3",
   "version": "3.9.13"
  }
 },
 "nbformat": 4,
 "nbformat_minor": 5
}
